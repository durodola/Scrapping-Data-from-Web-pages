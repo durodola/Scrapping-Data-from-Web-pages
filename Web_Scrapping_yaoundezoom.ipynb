{
  "nbformat": 4,
  "nbformat_minor": 0,
  "metadata": {
    "colab": {
      "name": " Web_Scrapping_example.ipynb",
      "provenance": []
    },
    "kernelspec": {
      "name": "python3",
      "display_name": "Python 3"
    }
  },
  "cells": [
    {
      "cell_type": "markdown",
      "metadata": {
        "id": "UDkH6OvcF7dB",
        "colab_type": "text"
      },
      "source": [
        "# Scrapping Data from http://www.example.com/ Website \n",
        "Date: 17/09/2020"
      ]
    },
    {
      "cell_type": "markdown",
      "metadata": {
        "id": "UsFqg0CSQwW2",
        "colab_type": "text"
      },
      "source": [
        "# A"
      ]
    },
    {
      "cell_type": "code",
      "metadata": {
        "id": "FPwUDmMnQtnU",
        "colab_type": "code",
        "colab": {
          "base_uri": "https://localhost:8080/",
          "height": 708
        },
        "outputId": "beccd195-06b9-4fd8-8801-f7eb80bf6897"
      },
      "source": [
        "# Import different packages to use\n",
        "from bs4 import BeautifulSoup\n",
        "import requests\n",
        "import pandas as pd\n",
        "import time\n",
        "\n",
        "urla = \"http://www.yaoundezoom.com/web/fr/activite/alpha/A\"\n",
        "\n",
        "npo_jobs = {}\n",
        "job_no = 0\n",
        "while True:\n",
        "    \n",
        "    response = requests.get(urla)\n",
        "    data = response.text\n",
        "    soup = BeautifulSoup(data,'html.parser')\n",
        "    jobs = soup.find_all('div',{'class':'div_categorielist_detail_btn'})\n",
        "    for job in jobs:\n",
        "      links = job.find('a').get('href')\n",
        "      link = 'http://www.yaoundezoom.com' + links\n",
        "      job_response = requests.get(link)\n",
        "      job_data = job_response.text\n",
        "      job_soup = BeautifulSoup(job_data, 'html.parser')\n",
        "      activities_loca_tag = job_soup.find('div',{'class':'div_intro_cellule01_text'})\n",
        "      activities_loca = activities_loca_tag.text if activities_loca_tag else \"NA\"\n",
        "      #name_tag = job_soup.find('div',{'class':'div_titre_show_activite'})\n",
        "      #name = name_tag.text if name_tag else \"N/A\"\n",
        "      comp_name = job_soup.find('h1').text\n",
        "      info_tag = job_soup.find('div',{'class':'div_list_entreprise_zone1-1__activiteshow'})\n",
        "      info = info_tag.text if info_tag else \"NA\"\n",
        "      job_no+=1\n",
        "      npo_jobs[job_no] = [comp_name, info, activities_loca]\n",
        "      #print('Comp_Name: ', comp_name, '\\nInfo', info, '\\nActivities_Loca', activities_loca)\n",
        "    \n",
        "    url_tag = soup.find('span',{'class':'next'})\n",
        "    #url_tag = url_tag.find('a').get('href')\n",
        "    if url_tag:\n",
        "        urla= 'http://www.yaoundezoom.com' + url_tag.find('a').get('href')\n",
        "        print(urla)\n",
        "        time.sleep(2)\n",
        "    else:\n",
        "        break\n",
        "\n",
        "print(\"Total Jobs:\", job_no)\n",
        "\n",
        "# Convert the data into a data frame, DataFrame is a data structure in pyton peculair to pandas\n",
        "npo_jobs_df = pd.DataFrame.from_dict(npo_jobs, orient='index', columns=['Comp_Name','Info', 'Activities'])\n",
        "npo_jobs_df.head()\n",
        "\n",
        "# To save in CSV\n"
      ],
      "execution_count": null,
      "outputs": [
        {
          "output_type": "stream",
          "text": [
            "http://www.yaoundezoom.com/web/fr/activite/alpha/A?page=2\n",
            "http://www.yaoundezoom.com/web/fr/activite/alpha/A?page=3\n",
            "http://www.yaoundezoom.com/web/fr/activite/alpha/A?page=4\n",
            "http://www.yaoundezoom.com/web/fr/activite/alpha/A?page=5\n",
            "http://www.yaoundezoom.com/web/fr/activite/alpha/A?page=6\n",
            "http://www.yaoundezoom.com/web/fr/activite/alpha/A?page=7\n",
            "http://www.yaoundezoom.com/web/fr/activite/alpha/A?page=8\n",
            "http://www.yaoundezoom.com/web/fr/activite/alpha/A?page=9\n",
            "http://www.yaoundezoom.com/web/fr/activite/alpha/A?page=10\n",
            "http://www.yaoundezoom.com/web/fr/activite/alpha/A?page=11\n",
            "http://www.yaoundezoom.com/web/fr/activite/alpha/A?page=12\n",
            "http://www.yaoundezoom.com/web/fr/activite/alpha/A?page=13\n",
            "http://www.yaoundezoom.com/web/fr/activite/alpha/A?page=14\n",
            "http://www.yaoundezoom.com/web/fr/activite/alpha/A?page=15\n",
            "http://www.yaoundezoom.com/web/fr/activite/alpha/A?page=16\n",
            "http://www.yaoundezoom.com/web/fr/activite/alpha/A?page=17\n",
            "http://www.yaoundezoom.com/web/fr/activite/alpha/A?page=18\n",
            "http://www.yaoundezoom.com/web/fr/activite/alpha/A?page=19\n",
            "http://www.yaoundezoom.com/web/fr/activite/alpha/A?page=20\n",
            "http://www.yaoundezoom.com/web/fr/activite/alpha/A?page=21\n",
            "http://www.yaoundezoom.com/web/fr/activite/alpha/A?page=22\n",
            "http://www.yaoundezoom.com/web/fr/activite/alpha/A?page=23\n",
            "http://www.yaoundezoom.com/web/fr/activite/alpha/A?page=24\n",
            "http://www.yaoundezoom.com/web/fr/activite/alpha/A?page=25\n",
            "http://www.yaoundezoom.com/web/fr/activite/alpha/A?page=26\n",
            "http://www.yaoundezoom.com/web/fr/activite/alpha/A?page=27\n",
            "http://www.yaoundezoom.com/web/fr/activite/alpha/A?page=28\n",
            "Total Jobs: 697\n"
          ],
          "name": "stdout"
        },
        {
          "output_type": "execute_result",
          "data": {
            "text/html": [
              "<div>\n",
              "<style scoped>\n",
              "    .dataframe tbody tr th:only-of-type {\n",
              "        vertical-align: middle;\n",
              "    }\n",
              "\n",
              "    .dataframe tbody tr th {\n",
              "        vertical-align: top;\n",
              "    }\n",
              "\n",
              "    .dataframe thead th {\n",
              "        text-align: right;\n",
              "    }\n",
              "</style>\n",
              "<table border=\"1\" class=\"dataframe\">\n",
              "  <thead>\n",
              "    <tr style=\"text-align: right;\">\n",
              "      <th></th>\n",
              "      <th>Comp_Name</th>\n",
              "      <th>Info</th>\n",
              "      <th>Activities</th>\n",
              "    </tr>\n",
              "  </thead>\n",
              "  <tbody>\n",
              "    <tr>\n",
              "      <th>1</th>\n",
              "      <td>A &amp; T Distribution Sarl</td>\n",
              "      <td>\\nContactez A &amp; t distribution sarl\\n \\n\\n  \\n...</td>\n",
              "      <td>\\nSecteur d'activité: Alcools, vins, spiritueu...</td>\n",
              "    </tr>\n",
              "    <tr>\n",
              "      <th>2</th>\n",
              "      <td>A A M Communication</td>\n",
              "      <td>\\nContactez A a m communication\\n \\n\\n  \\n\\t\\t...</td>\n",
              "      <td>\\nSecteur d'activité: Mobilier de maison - mob...</td>\n",
              "    </tr>\n",
              "    <tr>\n",
              "      <th>3</th>\n",
              "      <td>A B Motors Cameroun Sarl</td>\n",
              "      <td>\\nContactez A b motors cameroun sarl\\n \\n\\n  \\...</td>\n",
              "      <td>\\nSecteur d'activité: Mobilier de maison - mob...</td>\n",
              "    </tr>\n",
              "    <tr>\n",
              "      <th>4</th>\n",
              "      <td>A Corps Parfait</td>\n",
              "      <td>\\nContactez A corps parfait\\n \\n\\n  \\n\\t\\t\\tTé...</td>\n",
              "      <td>\\nSecteur d'activité: Salon de coiffure - esth...</td>\n",
              "    </tr>\n",
              "    <tr>\n",
              "      <th>5</th>\n",
              "      <td>A Samy Telecom</td>\n",
              "      <td>\\nContactez A samy telecom\\n \\n\\n  \\n\\t\\t\\tTél...</td>\n",
              "      <td>\\nSecteur d'activité: Télécommunication - télé...</td>\n",
              "    </tr>\n",
              "  </tbody>\n",
              "</table>\n",
              "</div>"
            ],
            "text/plain": [
              "                  Comp_Name  ...                                         Activities\n",
              "1   A & T Distribution Sarl  ...  \\nSecteur d'activité: Alcools, vins, spiritueu...\n",
              "2       A A M Communication  ...  \\nSecteur d'activité: Mobilier de maison - mob...\n",
              "3  A B Motors Cameroun Sarl  ...  \\nSecteur d'activité: Mobilier de maison - mob...\n",
              "4           A Corps Parfait  ...  \\nSecteur d'activité: Salon de coiffure - esth...\n",
              "5            A Samy Telecom  ...  \\nSecteur d'activité: Télécommunication - télé...\n",
              "\n",
              "[5 rows x 3 columns]"
            ]
          },
          "metadata": {
            "tags": []
          },
          "execution_count": 8
        }
      ]
    },
    {
      "cell_type": "code",
      "metadata": {
        "id": "KviLrwbHQtuo",
        "colab_type": "code",
        "colab": {}
      },
      "source": [
        "npo_jobs_df.to_csv('yaoundezoom_Atest.csv')"
      ],
      "execution_count": null,
      "outputs": []
    },
    {
      "cell_type": "markdown",
      "metadata": {
        "id": "xqSIlsEvQ1bp",
        "colab_type": "text"
      },
      "source": [
        ""
      ],
      "execution_count": null,
      "outputs": []
    }
  ]
}
